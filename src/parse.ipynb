{
 "cells": [
  {
   "cell_type": "code",
   "execution_count": 18,
   "source": [
    "import re\r\n",
    "import json\r\n",
    "import time\r\n",
    "from tqdm.notebook import tqdm\r\n",
    "import urllib"
   ],
   "outputs": [],
   "metadata": {}
  },
  {
   "cell_type": "code",
   "execution_count": 2,
   "source": [
    "with open('../out/camera.html',mode='r', encoding='utf8') as f:\r\n",
    "    dat = f.read()"
   ],
   "outputs": [],
   "metadata": {}
  },
  {
   "cell_type": "code",
   "execution_count": 3,
   "source": [
    "# dat.encode().decode(\"unicode-escape\") # textはutf16にdecodeすると日本語になる"
   ],
   "outputs": [],
   "metadata": {}
  },
  {
   "cell_type": "code",
   "execution_count": 4,
   "source": [
    "def get_search_value(ptn, str):\r\n",
    "    result = re.search(ptn, str)      \r\n",
    "    if result:\r\n",
    "        return result.group(1)\r\n",
    "    else:\r\n",
    "        return None\r\n",
    "\r\n",
    "json_str = get_search_value(\"window._sharedData = (.*);<\\/script>\", dat)\r\n",
    "dat_d = json.loads(json_str)"
   ],
   "outputs": [],
   "metadata": {}
  },
  {
   "cell_type": "code",
   "execution_count": 5,
   "source": [
    "dat_d.keys()"
   ],
   "outputs": [
    {
     "output_type": "execute_result",
     "data": {
      "text/plain": [
       "dict_keys(['config', 'country_code', 'language_code', 'locale', 'entry_data', 'hostname', 'is_whitelisted_crawl_bot', 'connection_quality_rating', 'deployment_stage', 'platform', 'nonce', 'mid_pct', 'zero_data', 'cache_schema_version', 'server_checks', 'knobx', 'to_cache', 'device_id', 'browser_push_pub_key', 'encryption', 'is_dev', 'signal_collection_config', 'consent_dialog_config', 'privacy_flow_trigger', 'rollout_hash', 'bundle_variant', 'frontend_env'])"
      ]
     },
     "metadata": {},
     "execution_count": 5
    }
   ],
   "metadata": {}
  },
  {
   "cell_type": "code",
   "execution_count": 6,
   "source": [
    "for key in dat_d.keys():\r\n",
    "    temp = dat_d[key]\r\n",
    "    if type(temp) == type(dict):\r\n",
    "        print(key, len(temp))\r\n",
    "    else:\r\n",
    "        continue"
   ],
   "outputs": [],
   "metadata": {}
  },
  {
   "cell_type": "code",
   "execution_count": 8,
   "source": [
    "entry = dat_d[\"entry_data\"]['TagPage'][0]['graphql']['hashtag']\r\n",
    "\r\n",
    "for key in entry.keys():\r\n",
    "    temp = entry[key]\r\n",
    "    if type(temp) == type(dict):\r\n",
    "        print(key, len(temp))\r\n",
    "    else:\r\n",
    "        print(key,\":\", )"
   ],
   "outputs": [
    {
     "output_type": "stream",
     "name": "stdout",
     "text": [
      "id :\n",
      "name :\n",
      "allow_following :\n",
      "is_following :\n",
      "is_top_media_only :\n",
      "profile_pic_url :\n",
      "edge_hashtag_to_media :\n",
      "edge_hashtag_to_top_posts :\n",
      "edge_hashtag_to_content_advisory :\n",
      "edge_hashtag_to_related_tags :\n",
      "edge_hashtag_to_null_state :\n"
     ]
    }
   ],
   "metadata": {}
  },
  {
   "cell_type": "code",
   "execution_count": 14,
   "source": [
    "# サムネイルの画像url のサンプル抽出\r\n",
    "no_post = 0\r\n",
    "posts = entry[\"edge_hashtag_to_media\"][\"edges\"][no_post][\"node\"][\"thumbnail_resources\"]\r\n",
    "image_url = posts[-1][\"src\"] # 一番後ろのサムネイルの解像度が一番大きい\r\n",
    "\r\n",
    "# それぞれのedge属性が何枚の画像を持っているか\r\n",
    "edges = [\r\n",
    "    \"edge_hashtag_to_media\",\r\n",
    "    \"edge_hashtag_to_top_posts\",\r\n",
    "    \"edge_hashtag_to_content_advisory\",\r\n",
    "    \"edge_hashtag_to_related_tags\",\r\n",
    "    \"edge_hashtag_to_null_state\"]\r\n",
    "for e in edges:\r\n",
    "    print(e, len(entry[e][\"edges\"]))"
   ],
   "outputs": [
    {
     "output_type": "stream",
     "name": "stdout",
     "text": [
      "edge_hashtag_to_media 72\n",
      "edge_hashtag_to_top_posts 9\n",
      "edge_hashtag_to_content_advisory 0\n",
      "edge_hashtag_to_related_tags 0\n",
      "edge_hashtag_to_null_state 0\n"
     ]
    }
   ],
   "metadata": {}
  },
  {
   "cell_type": "code",
   "execution_count": 22,
   "source": [
    "# urlの抽出\r\n",
    "urls = []\r\n",
    "for i in range(len(entry[\"edge_hashtag_to_media\"][\"edges\"])):\r\n",
    "    url = entry[\"edge_hashtag_to_media\"][\"edges\"][i][\"node\"][\"thumbnail_resources\"][-1][\"src\"]\r\n",
    "    urls.append(url)\r\n",
    "\r\n",
    "top_urls = []\r\n",
    "for i in range(len(entry[\"edge_hashtag_to_top_posts\"][\"edges\"])):\r\n",
    "    url = entry[\"edge_hashtag_to_top_posts\"][\"edges\"][i][\"node\"][\"thumbnail_resources\"][-1][\"src\"]\r\n",
    "    top_urls.append(url)"
   ],
   "outputs": [],
   "metadata": {}
  },
  {
   "cell_type": "code",
   "execution_count": null,
   "source": [],
   "outputs": [],
   "metadata": {}
  },
  {
   "cell_type": "code",
   "execution_count": 20,
   "source": [
    "def download_file(url, dst_path):\r\n",
    "    '''\r\n",
    "    url : ダウンロードしたい画像/データのurl\r\n",
    "    dst_path ： ダウンロードファイルの名前\r\n",
    "    '''\r\n",
    "\r\n",
    "    try:\r\n",
    "        with urllib.request.urlopen(url) as web_file, open(dst_path, 'wb') as local_file:\r\n",
    "            local_file.write(web_file.read())\r\n",
    "    except urllib.error.URLError as e:\r\n",
    "        print(e)"
   ],
   "outputs": [],
   "metadata": {}
  },
  {
   "cell_type": "code",
   "execution_count": null,
   "source": [
    "for i, im_url in enumerate(tqdm(urls)):\r\n",
    "    download_file(im_url, \"../out/first_page/image{}.jpg\".format(i))\r\n",
    "    time.sleep(1)"
   ],
   "outputs": [],
   "metadata": {}
  },
  {
   "cell_type": "code",
   "execution_count": 24,
   "source": [
    "for i, im_url in enumerate(tqdm(top_urls)):\r\n",
    "    download_file(im_url, \"../out/first_page/image{}_top.jpg\".format(i))\r\n",
    "    time.sleep(1)\r\n"
   ],
   "outputs": [
    {
     "output_type": "display_data",
     "data": {
      "application/vnd.jupyter.widget-view+json": {
       "version_major": 2,
       "version_minor": 0,
       "model_id": "5909be562ca14b26a07eaca6828fd5e9"
      },
      "text/plain": [
       "  0%|          | 0/9 [00:00<?, ?it/s]"
      ]
     },
     "metadata": {}
    }
   ],
   "metadata": {}
  },
  {
   "cell_type": "code",
   "execution_count": 40,
   "source": [
    "with open(\"../out/posts_笑顔_1000.json\", mode=\"r\", encoding=\"utf8\") as f:\r\n",
    "    p = json.load(f)"
   ],
   "outputs": [],
   "metadata": {}
  },
  {
   "cell_type": "code",
   "execution_count": 41,
   "source": [
    "p[list(p.keys())[0]][\"src\"]"
   ],
   "outputs": [
    {
     "output_type": "execute_result",
     "data": {
      "text/plain": [
       "'https://scontent-nrt1-1.cdninstagram.com/v/t51.2885-15/sh0.08/e35/c0.180.1440.1440a/s640x640/242499149_1290419654748202_5544961585097431680_n.jpg?_nc_ht=scontent-nrt1-1.cdninstagram.com&_nc_cat=110&_nc_ohc=7QSwk1q4VacAX_FhNkT&edm=ABZsPhsBAAAA&ccb=7-4&oh=57b4315c24e3281a789f951ff6a4050f&oe=6152F1D4&_nc_sid=4efc9f'"
      ]
     },
     "metadata": {},
     "execution_count": 41
    }
   ],
   "metadata": {}
  },
  {
   "cell_type": "code",
   "execution_count": 46,
   "source": [
    "for i, im_key in enumerate(tqdm(p.keys())):\r\n",
    "    download_file(p[im_key][\"src\"], \"../out/smile/image{}.jpg\".format(i))\r\n",
    "    time.sleep(1)"
   ],
   "outputs": [
    {
     "output_type": "display_data",
     "data": {
      "application/vnd.jupyter.widget-view+json": {
       "version_major": 2,
       "version_minor": 0,
       "model_id": "8dfb825a530f490fbdd1a95426822ee1"
      },
      "text/plain": [
       "  0%|          | 0/1014 [00:00<?, ?it/s]"
      ]
     },
     "metadata": {}
    },
    {
     "output_type": "error",
     "ename": "KeyboardInterrupt",
     "evalue": "",
     "traceback": [
      "\u001b[1;31m---------------------------------------------------------------------------\u001b[0m",
      "\u001b[1;31mKeyboardInterrupt\u001b[0m                         Traceback (most recent call last)",
      "\u001b[1;32m~\\AppData\\Local\\Temp/ipykernel_20276/2129786517.py\u001b[0m in \u001b[0;36m<module>\u001b[1;34m\u001b[0m\n\u001b[0;32m      1\u001b[0m \u001b[1;32mfor\u001b[0m \u001b[0mi\u001b[0m\u001b[1;33m,\u001b[0m \u001b[0mim_key\u001b[0m \u001b[1;32min\u001b[0m \u001b[0menumerate\u001b[0m\u001b[1;33m(\u001b[0m\u001b[0mtqdm\u001b[0m\u001b[1;33m(\u001b[0m\u001b[0mp\u001b[0m\u001b[1;33m.\u001b[0m\u001b[0mkeys\u001b[0m\u001b[1;33m(\u001b[0m\u001b[1;33m)\u001b[0m\u001b[1;33m)\u001b[0m\u001b[1;33m)\u001b[0m\u001b[1;33m:\u001b[0m\u001b[1;33m\u001b[0m\u001b[1;33m\u001b[0m\u001b[0m\n\u001b[0;32m      2\u001b[0m     \u001b[0mdownload_file\u001b[0m\u001b[1;33m(\u001b[0m\u001b[0mp\u001b[0m\u001b[1;33m[\u001b[0m\u001b[0mim_key\u001b[0m\u001b[1;33m]\u001b[0m\u001b[1;33m[\u001b[0m\u001b[1;34m\"src\"\u001b[0m\u001b[1;33m]\u001b[0m\u001b[1;33m,\u001b[0m \u001b[1;34m\"../out/smile/image{}.jpg\"\u001b[0m\u001b[1;33m.\u001b[0m\u001b[0mformat\u001b[0m\u001b[1;33m(\u001b[0m\u001b[0mi\u001b[0m\u001b[1;33m)\u001b[0m\u001b[1;33m)\u001b[0m\u001b[1;33m\u001b[0m\u001b[1;33m\u001b[0m\u001b[0m\n\u001b[1;32m----> 3\u001b[1;33m     \u001b[0mtime\u001b[0m\u001b[1;33m.\u001b[0m\u001b[0msleep\u001b[0m\u001b[1;33m(\u001b[0m\u001b[1;36m1\u001b[0m\u001b[1;33m)\u001b[0m\u001b[1;33m\u001b[0m\u001b[1;33m\u001b[0m\u001b[0m\n\u001b[0m",
      "\u001b[1;31mKeyboardInterrupt\u001b[0m: "
     ]
    }
   ],
   "metadata": {}
  },
  {
   "cell_type": "code",
   "execution_count": null,
   "source": [],
   "outputs": [],
   "metadata": {}
  },
  {
   "cell_type": "code",
   "execution_count": null,
   "source": [],
   "outputs": [],
   "metadata": {}
  }
 ],
 "metadata": {
  "orig_nbformat": 4,
  "language_info": {
   "name": "python",
   "version": "3.8.8",
   "mimetype": "text/x-python",
   "codemirror_mode": {
    "name": "ipython",
    "version": 3
   },
   "pygments_lexer": "ipython3",
   "nbconvert_exporter": "python",
   "file_extension": ".py"
  },
  "kernelspec": {
   "name": "python3",
   "display_name": "Python 3.8.8 64-bit ('torch': conda)"
  },
  "interpreter": {
   "hash": "95e723c2d8ad5f363f4031b15d2409a50182305c29d64298062df93dae99dbd7"
  }
 },
 "nbformat": 4,
 "nbformat_minor": 2
}